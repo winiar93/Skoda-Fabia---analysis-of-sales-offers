{
 "cells": [
  {
   "cell_type": "code",
   "execution_count": 1,
   "metadata": {},
   "outputs": [],
   "source": [
    "#import tools\n",
    "import pandas as pd\n",
    "import matplotlib.pyplot as plt\n",
    "import seaborn as sns\n",
    "import numpy as np\n"
   ]
  },
  {
   "cell_type": "code",
   "execution_count": 2,
   "metadata": {},
   "outputs": [],
   "source": [
    "#read txt data from web scrapper\n",
    "df = pd.read_csv('fabia_ceny_log.txt',sep=',',header=None,engine='python',)\n"
   ]
  },
  {
   "cell_type": "code",
   "execution_count": 3,
   "metadata": {},
   "outputs": [
    {
     "data": {
      "text/html": [
       "<div>\n",
       "<style scoped>\n",
       "    .dataframe tbody tr th:only-of-type {\n",
       "        vertical-align: middle;\n",
       "    }\n",
       "\n",
       "    .dataframe tbody tr th {\n",
       "        vertical-align: top;\n",
       "    }\n",
       "\n",
       "    .dataframe thead th {\n",
       "        text-align: right;\n",
       "    }\n",
       "</style>\n",
       "<table border=\"1\" class=\"dataframe\">\n",
       "  <thead>\n",
       "    <tr style=\"text-align: right;\">\n",
       "      <th></th>\n",
       "      <th>0</th>\n",
       "      <th>1</th>\n",
       "      <th>2</th>\n",
       "      <th>3</th>\n",
       "      <th>4</th>\n",
       "      <th>5</th>\n",
       "    </tr>\n",
       "  </thead>\n",
       "  <tbody>\n",
       "    <tr>\n",
       "      <th>0</th>\n",
       "      <td>'2017'</td>\n",
       "      <td>'65 208 km'</td>\n",
       "      <td>'1 422 cm3'</td>\n",
       "      <td>'Diesel'</td>\n",
       "      <td>'35 900 PLN'</td>\n",
       "      <td>'(Mazowieckie)'</td>\n",
       "    </tr>\n",
       "    <tr>\n",
       "      <th>1</th>\n",
       "      <td>'2020'</td>\n",
       "      <td>'8 000 km'</td>\n",
       "      <td>'999 cm3'</td>\n",
       "      <td>'Benzyna'</td>\n",
       "      <td>'57 900 PLN'</td>\n",
       "      <td>'(Łódzkie)'</td>\n",
       "    </tr>\n",
       "    <tr>\n",
       "      <th>2</th>\n",
       "      <td>'2019'</td>\n",
       "      <td>'41 355 km'</td>\n",
       "      <td>'999 cm3'</td>\n",
       "      <td>'Benzyna+LPG'</td>\n",
       "      <td>'46 000 PLN'</td>\n",
       "      <td>'(Śląskie)'</td>\n",
       "    </tr>\n",
       "    <tr>\n",
       "      <th>3</th>\n",
       "      <td>'2017'</td>\n",
       "      <td>'30 587 km'</td>\n",
       "      <td>'999 cm3'</td>\n",
       "      <td>'Benzyna'</td>\n",
       "      <td>'46 000 PLN'</td>\n",
       "      <td>'(Śląskie)'</td>\n",
       "    </tr>\n",
       "    <tr>\n",
       "      <th>4</th>\n",
       "      <td>'2020'</td>\n",
       "      <td>'1 km'</td>\n",
       "      <td>'999 cm3'</td>\n",
       "      <td>'Benzyna'</td>\n",
       "      <td>'61 350 PLN'</td>\n",
       "      <td>'(Dolnośląskie)'</td>\n",
       "    </tr>\n",
       "  </tbody>\n",
       "</table>\n",
       "</div>"
      ],
      "text/plain": [
       "        0             1             2               3              4  \\\n",
       "0  '2017'   '65 208 km'   '1 422 cm3'        'Diesel'   '35 900 PLN'   \n",
       "1  '2020'    '8 000 km'     '999 cm3'       'Benzyna'   '57 900 PLN'   \n",
       "2  '2019'   '41 355 km'     '999 cm3'   'Benzyna+LPG'   '46 000 PLN'   \n",
       "3  '2017'   '30 587 km'     '999 cm3'       'Benzyna'   '46 000 PLN'   \n",
       "4  '2020'        '1 km'     '999 cm3'       'Benzyna'   '61 350 PLN'   \n",
       "\n",
       "                   5  \n",
       "0    '(Mazowieckie)'  \n",
       "1        '(Łódzkie)'  \n",
       "2        '(Śląskie)'  \n",
       "3        '(Śląskie)'  \n",
       "4   '(Dolnośląskie)'  "
      ]
     },
     "execution_count": 3,
     "metadata": {},
     "output_type": "execute_result"
    }
   ],
   "source": [
    "df.head()"
   ]
  },
  {
   "cell_type": "code",
   "execution_count": 4,
   "metadata": {
    "scrolled": true
   },
   "outputs": [],
   "source": [
    "#rename columns\n",
    "df.rename({0:'year',1:'mileage  (km)',2:'engine_capacity (cm3)',3:'fuel type',4:'price (PLN)',5:'location'}, axis=1, inplace=True)"
   ]
  },
  {
   "cell_type": "code",
   "execution_count": 5,
   "metadata": {},
   "outputs": [
    {
     "data": {
      "text/html": [
       "<div>\n",
       "<style scoped>\n",
       "    .dataframe tbody tr th:only-of-type {\n",
       "        vertical-align: middle;\n",
       "    }\n",
       "\n",
       "    .dataframe tbody tr th {\n",
       "        vertical-align: top;\n",
       "    }\n",
       "\n",
       "    .dataframe thead th {\n",
       "        text-align: right;\n",
       "    }\n",
       "</style>\n",
       "<table border=\"1\" class=\"dataframe\">\n",
       "  <thead>\n",
       "    <tr style=\"text-align: right;\">\n",
       "      <th></th>\n",
       "      <th>year</th>\n",
       "      <th>mileage  (km)</th>\n",
       "      <th>engine_capacity (cm3)</th>\n",
       "      <th>fuel type</th>\n",
       "      <th>price (PLN)</th>\n",
       "      <th>location</th>\n",
       "    </tr>\n",
       "  </thead>\n",
       "  <tbody>\n",
       "    <tr>\n",
       "      <th>0</th>\n",
       "      <td>'2017'</td>\n",
       "      <td>'65 208 km'</td>\n",
       "      <td>'1 422 cm3'</td>\n",
       "      <td>'Diesel'</td>\n",
       "      <td>'35 900 PLN'</td>\n",
       "      <td>'(Mazowieckie)'</td>\n",
       "    </tr>\n",
       "    <tr>\n",
       "      <th>1</th>\n",
       "      <td>'2020'</td>\n",
       "      <td>'8 000 km'</td>\n",
       "      <td>'999 cm3'</td>\n",
       "      <td>'Benzyna'</td>\n",
       "      <td>'57 900 PLN'</td>\n",
       "      <td>'(Łódzkie)'</td>\n",
       "    </tr>\n",
       "    <tr>\n",
       "      <th>2</th>\n",
       "      <td>'2019'</td>\n",
       "      <td>'41 355 km'</td>\n",
       "      <td>'999 cm3'</td>\n",
       "      <td>'Benzyna+LPG'</td>\n",
       "      <td>'46 000 PLN'</td>\n",
       "      <td>'(Śląskie)'</td>\n",
       "    </tr>\n",
       "    <tr>\n",
       "      <th>3</th>\n",
       "      <td>'2017'</td>\n",
       "      <td>'30 587 km'</td>\n",
       "      <td>'999 cm3'</td>\n",
       "      <td>'Benzyna'</td>\n",
       "      <td>'46 000 PLN'</td>\n",
       "      <td>'(Śląskie)'</td>\n",
       "    </tr>\n",
       "    <tr>\n",
       "      <th>4</th>\n",
       "      <td>'2020'</td>\n",
       "      <td>'1 km'</td>\n",
       "      <td>'999 cm3'</td>\n",
       "      <td>'Benzyna'</td>\n",
       "      <td>'61 350 PLN'</td>\n",
       "      <td>'(Dolnośląskie)'</td>\n",
       "    </tr>\n",
       "  </tbody>\n",
       "</table>\n",
       "</div>"
      ],
      "text/plain": [
       "     year mileage  (km) engine_capacity (cm3)       fuel type    price (PLN)  \\\n",
       "0  '2017'   '65 208 km'           '1 422 cm3'        'Diesel'   '35 900 PLN'   \n",
       "1  '2020'    '8 000 km'             '999 cm3'       'Benzyna'   '57 900 PLN'   \n",
       "2  '2019'   '41 355 km'             '999 cm3'   'Benzyna+LPG'   '46 000 PLN'   \n",
       "3  '2017'   '30 587 km'             '999 cm3'       'Benzyna'   '46 000 PLN'   \n",
       "4  '2020'        '1 km'             '999 cm3'       'Benzyna'   '61 350 PLN'   \n",
       "\n",
       "            location  \n",
       "0    '(Mazowieckie)'  \n",
       "1        '(Łódzkie)'  \n",
       "2        '(Śląskie)'  \n",
       "3        '(Śląskie)'  \n",
       "4   '(Dolnośląskie)'  "
      ]
     },
     "execution_count": 5,
     "metadata": {},
     "output_type": "execute_result"
    }
   ],
   "source": [
    "df.head()"
   ]
  },
  {
   "cell_type": "code",
   "execution_count": 6,
   "metadata": {},
   "outputs": [
    {
     "data": {
      "text/plain": [
       "True"
      ]
     },
     "execution_count": 6,
     "metadata": {},
     "output_type": "execute_result"
    }
   ],
   "source": [
    "#way to check empty columns\n",
    "df.isnull().values.any()"
   ]
  },
  {
   "cell_type": "code",
   "execution_count": 7,
   "metadata": {},
   "outputs": [],
   "source": [
    "df.dropna(axis=0,how='any',inplace=True)"
   ]
  },
  {
   "cell_type": "code",
   "execution_count": 8,
   "metadata": {},
   "outputs": [],
   "source": [
    "#clean data from special sings and units, and also change data types \n",
    "import re\n",
    "#df[:] = df.str.replace('\\W', '')\n",
    "df=df.replace(\"'\",\"\",regex=True)\n",
    "df=df.replace(\" \",\"\",regex=True)\n",
    "df['year']=df['year'].astype(int)\n",
    "df['mileage  (km)'] = df['mileage  (km)'].replace(\"km\",\"\",regex=True).astype(int)\n",
    "df['engine_capacity (cm3)'] = df['engine_capacity (cm3)'].replace('cm3','',regex=True).astype(int)\n",
    "df['price (PLN)'] = df['price (PLN)'].replace('PLN','',regex=True)\n",
    "df['price (PLN)'] = df['price (PLN)'].replace('EUR','',regex=True).astype(int)\n",
    "df['location'] = df['location'].str.replace(\"(\",\"\")\n",
    "df['location'] = df['location'].str.replace(\")\",\"\")\n",
    "df['fuel type'] = df['fuel type'].astype(str)\n",
    "df['location'] = df['location'].astype(str)\n",
    "\n",
    "# re.sub(\"[\\(\\[].*?[\\)\\]]\", \"\", df['location'])"
   ]
  },
  {
   "cell_type": "code",
   "execution_count": 9,
   "metadata": {},
   "outputs": [
    {
     "data": {
      "text/html": [
       "<div>\n",
       "<style scoped>\n",
       "    .dataframe tbody tr th:only-of-type {\n",
       "        vertical-align: middle;\n",
       "    }\n",
       "\n",
       "    .dataframe tbody tr th {\n",
       "        vertical-align: top;\n",
       "    }\n",
       "\n",
       "    .dataframe thead th {\n",
       "        text-align: right;\n",
       "    }\n",
       "</style>\n",
       "<table border=\"1\" class=\"dataframe\">\n",
       "  <thead>\n",
       "    <tr style=\"text-align: right;\">\n",
       "      <th></th>\n",
       "      <th>year</th>\n",
       "      <th>mileage  (km)</th>\n",
       "      <th>engine_capacity (cm3)</th>\n",
       "      <th>fuel type</th>\n",
       "      <th>price (PLN)</th>\n",
       "      <th>location</th>\n",
       "    </tr>\n",
       "  </thead>\n",
       "  <tbody>\n",
       "    <tr>\n",
       "      <th>0</th>\n",
       "      <td>2017</td>\n",
       "      <td>65208</td>\n",
       "      <td>1422</td>\n",
       "      <td>Diesel</td>\n",
       "      <td>35900</td>\n",
       "      <td>Mazowieckie</td>\n",
       "    </tr>\n",
       "    <tr>\n",
       "      <th>1</th>\n",
       "      <td>2020</td>\n",
       "      <td>8000</td>\n",
       "      <td>999</td>\n",
       "      <td>Benzyna</td>\n",
       "      <td>57900</td>\n",
       "      <td>Łódzkie</td>\n",
       "    </tr>\n",
       "    <tr>\n",
       "      <th>2</th>\n",
       "      <td>2019</td>\n",
       "      <td>41355</td>\n",
       "      <td>999</td>\n",
       "      <td>Benzyna+LPG</td>\n",
       "      <td>46000</td>\n",
       "      <td>Śląskie</td>\n",
       "    </tr>\n",
       "    <tr>\n",
       "      <th>3</th>\n",
       "      <td>2017</td>\n",
       "      <td>30587</td>\n",
       "      <td>999</td>\n",
       "      <td>Benzyna</td>\n",
       "      <td>46000</td>\n",
       "      <td>Śląskie</td>\n",
       "    </tr>\n",
       "    <tr>\n",
       "      <th>4</th>\n",
       "      <td>2020</td>\n",
       "      <td>1</td>\n",
       "      <td>999</td>\n",
       "      <td>Benzyna</td>\n",
       "      <td>61350</td>\n",
       "      <td>Dolnośląskie</td>\n",
       "    </tr>\n",
       "  </tbody>\n",
       "</table>\n",
       "</div>"
      ],
      "text/plain": [
       "   year  mileage  (km)  engine_capacity (cm3)    fuel type  price (PLN)  \\\n",
       "0  2017          65208                   1422       Diesel        35900   \n",
       "1  2020           8000                    999      Benzyna        57900   \n",
       "2  2019          41355                    999  Benzyna+LPG        46000   \n",
       "3  2017          30587                    999      Benzyna        46000   \n",
       "4  2020              1                    999      Benzyna        61350   \n",
       "\n",
       "       location  \n",
       "0   Mazowieckie  \n",
       "1       Łódzkie  \n",
       "2       Śląskie  \n",
       "3       Śląskie  \n",
       "4  Dolnośląskie  "
      ]
     },
     "execution_count": 9,
     "metadata": {},
     "output_type": "execute_result"
    }
   ],
   "source": [
    "df.head()"
   ]
  },
  {
   "cell_type": "code",
   "execution_count": 10,
   "metadata": {},
   "outputs": [],
   "source": [
    "data = df.copy()"
   ]
  },
  {
   "cell_type": "markdown",
   "metadata": {},
   "source": [
    "let's explore some data"
   ]
  },
  {
   "cell_type": "code",
   "execution_count": 11,
   "metadata": {},
   "outputs": [
    {
     "data": {
      "text/html": [
       "<div>\n",
       "<style scoped>\n",
       "    .dataframe tbody tr th:only-of-type {\n",
       "        vertical-align: middle;\n",
       "    }\n",
       "\n",
       "    .dataframe tbody tr th {\n",
       "        vertical-align: top;\n",
       "    }\n",
       "\n",
       "    .dataframe thead th {\n",
       "        text-align: right;\n",
       "    }\n",
       "</style>\n",
       "<table border=\"1\" class=\"dataframe\">\n",
       "  <thead>\n",
       "    <tr style=\"text-align: right;\">\n",
       "      <th></th>\n",
       "      <th>year</th>\n",
       "      <th>mileage  (km)</th>\n",
       "      <th>engine_capacity (cm3)</th>\n",
       "      <th>price (PLN)</th>\n",
       "    </tr>\n",
       "  </thead>\n",
       "  <tbody>\n",
       "    <tr>\n",
       "      <th>count</th>\n",
       "      <td>859.000000</td>\n",
       "      <td>859.000000</td>\n",
       "      <td>859.000000</td>\n",
       "      <td>8.590000e+02</td>\n",
       "    </tr>\n",
       "    <tr>\n",
       "      <th>mean</th>\n",
       "      <td>2018.629802</td>\n",
       "      <td>51240.738068</td>\n",
       "      <td>1051.563446</td>\n",
       "      <td>5.306687e+04</td>\n",
       "    </tr>\n",
       "    <tr>\n",
       "      <th>std</th>\n",
       "      <td>1.330246</td>\n",
       "      <td>56193.751591</td>\n",
       "      <td>134.583019</td>\n",
       "      <td>1.855036e+05</td>\n",
       "    </tr>\n",
       "    <tr>\n",
       "      <th>min</th>\n",
       "      <td>2017.000000</td>\n",
       "      <td>1.000000</td>\n",
       "      <td>998.000000</td>\n",
       "      <td>8.000000e+03</td>\n",
       "    </tr>\n",
       "    <tr>\n",
       "      <th>25%</th>\n",
       "      <td>2017.000000</td>\n",
       "      <td>7.500000</td>\n",
       "      <td>999.000000</td>\n",
       "      <td>3.190000e+04</td>\n",
       "    </tr>\n",
       "    <tr>\n",
       "      <th>50%</th>\n",
       "      <td>2019.000000</td>\n",
       "      <td>33000.000000</td>\n",
       "      <td>999.000000</td>\n",
       "      <td>4.290000e+04</td>\n",
       "    </tr>\n",
       "    <tr>\n",
       "      <th>75%</th>\n",
       "      <td>2020.000000</td>\n",
       "      <td>94513.000000</td>\n",
       "      <td>999.000000</td>\n",
       "      <td>5.770000e+04</td>\n",
       "    </tr>\n",
       "    <tr>\n",
       "      <th>max</th>\n",
       "      <td>2021.000000</td>\n",
       "      <td>242333.000000</td>\n",
       "      <td>1422.000000</td>\n",
       "      <td>3.973631e+06</td>\n",
       "    </tr>\n",
       "  </tbody>\n",
       "</table>\n",
       "</div>"
      ],
      "text/plain": [
       "              year  mileage  (km)  engine_capacity (cm3)   price (PLN)\n",
       "count   859.000000     859.000000             859.000000  8.590000e+02\n",
       "mean   2018.629802   51240.738068            1051.563446  5.306687e+04\n",
       "std       1.330246   56193.751591             134.583019  1.855036e+05\n",
       "min    2017.000000       1.000000             998.000000  8.000000e+03\n",
       "25%    2017.000000       7.500000             999.000000  3.190000e+04\n",
       "50%    2019.000000   33000.000000             999.000000  4.290000e+04\n",
       "75%    2020.000000   94513.000000             999.000000  5.770000e+04\n",
       "max    2021.000000  242333.000000            1422.000000  3.973631e+06"
      ]
     },
     "execution_count": 11,
     "metadata": {},
     "output_type": "execute_result"
    }
   ],
   "source": [
    "data.describe()"
   ]
  },
  {
   "cell_type": "code",
   "execution_count": 12,
   "metadata": {
    "scrolled": true
   },
   "outputs": [
    {
     "data": {
      "text/html": [
       "<div>\n",
       "<style scoped>\n",
       "    .dataframe tbody tr th:only-of-type {\n",
       "        vertical-align: middle;\n",
       "    }\n",
       "\n",
       "    .dataframe tbody tr th {\n",
       "        vertical-align: top;\n",
       "    }\n",
       "\n",
       "    .dataframe thead th {\n",
       "        text-align: right;\n",
       "    }\n",
       "</style>\n",
       "<table border=\"1\" class=\"dataframe\">\n",
       "  <thead>\n",
       "    <tr style=\"text-align: right;\">\n",
       "      <th></th>\n",
       "      <th>year</th>\n",
       "      <th>mileage  (km)</th>\n",
       "      <th>engine_capacity (cm3)</th>\n",
       "      <th>price (PLN)</th>\n",
       "    </tr>\n",
       "    <tr>\n",
       "      <th>location</th>\n",
       "      <th></th>\n",
       "      <th></th>\n",
       "      <th></th>\n",
       "      <th></th>\n",
       "    </tr>\n",
       "  </thead>\n",
       "  <tbody>\n",
       "    <tr>\n",
       "      <th>Holandia</th>\n",
       "      <td>2020.000000</td>\n",
       "      <td>1680.000000</td>\n",
       "      <td>999.000000</td>\n",
       "      <td>11131.000000</td>\n",
       "    </tr>\n",
       "    <tr>\n",
       "      <th>Wielkopolskie</th>\n",
       "      <td>2018.242105</td>\n",
       "      <td>67165.989474</td>\n",
       "      <td>1084.652632</td>\n",
       "      <td>39849.515789</td>\n",
       "    </tr>\n",
       "    <tr>\n",
       "      <th>Świętokrzyskie</th>\n",
       "      <td>2018.750000</td>\n",
       "      <td>38854.583333</td>\n",
       "      <td>1034.500000</td>\n",
       "      <td>40420.083333</td>\n",
       "    </tr>\n",
       "    <tr>\n",
       "      <th>Moravian-SilesianRegion</th>\n",
       "      <td>2017.000000</td>\n",
       "      <td>67101.000000</td>\n",
       "      <td>1396.000000</td>\n",
       "      <td>41888.000000</td>\n",
       "    </tr>\n",
       "    <tr>\n",
       "      <th>Małopolskie</th>\n",
       "      <td>2018.654545</td>\n",
       "      <td>48219.200000</td>\n",
       "      <td>1048.054545</td>\n",
       "      <td>42132.672727</td>\n",
       "    </tr>\n",
       "    <tr>\n",
       "      <th>Zachodniopomorskie</th>\n",
       "      <td>2018.300000</td>\n",
       "      <td>50511.200000</td>\n",
       "      <td>1041.300000</td>\n",
       "      <td>42310.000000</td>\n",
       "    </tr>\n",
       "    <tr>\n",
       "      <th>Podlaskie</th>\n",
       "      <td>2018.727273</td>\n",
       "      <td>33776.727273</td>\n",
       "      <td>1055.454545</td>\n",
       "      <td>43635.818182</td>\n",
       "    </tr>\n",
       "    <tr>\n",
       "      <th>Śląskie</th>\n",
       "      <td>2018.626984</td>\n",
       "      <td>45825.738095</td>\n",
       "      <td>1031.611111</td>\n",
       "      <td>43820.801587</td>\n",
       "    </tr>\n",
       "    <tr>\n",
       "      <th>Opolskie</th>\n",
       "      <td>2018.521739</td>\n",
       "      <td>46716.173913</td>\n",
       "      <td>1008.260870</td>\n",
       "      <td>46239.130435</td>\n",
       "    </tr>\n",
       "    <tr>\n",
       "      <th>Dolnośląskie</th>\n",
       "      <td>2018.714286</td>\n",
       "      <td>48036.285714</td>\n",
       "      <td>1046.476190</td>\n",
       "      <td>46732.154762</td>\n",
       "    </tr>\n",
       "    <tr>\n",
       "      <th>Kujawsko-pomorskie</th>\n",
       "      <td>2018.785714</td>\n",
       "      <td>43345.964286</td>\n",
       "      <td>1029.214286</td>\n",
       "      <td>47069.178571</td>\n",
       "    </tr>\n",
       "    <tr>\n",
       "      <th>Podkarpackie</th>\n",
       "      <td>2018.960000</td>\n",
       "      <td>40348.920000</td>\n",
       "      <td>998.960000</td>\n",
       "      <td>47079.120000</td>\n",
       "    </tr>\n",
       "    <tr>\n",
       "      <th>Lubelskie</th>\n",
       "      <td>2018.863636</td>\n",
       "      <td>45636.863636</td>\n",
       "      <td>1036.181818</td>\n",
       "      <td>48010.454545</td>\n",
       "    </tr>\n",
       "    <tr>\n",
       "      <th>Łódzkie</th>\n",
       "      <td>2019.126316</td>\n",
       "      <td>34648.094737</td>\n",
       "      <td>1014.189474</td>\n",
       "      <td>48277.642105</td>\n",
       "    </tr>\n",
       "    <tr>\n",
       "      <th>Lubuskie</th>\n",
       "      <td>2019.416667</td>\n",
       "      <td>18393.000000</td>\n",
       "      <td>1034.250000</td>\n",
       "      <td>51915.750000</td>\n",
       "    </tr>\n",
       "    <tr>\n",
       "      <th>Warmińsko-mazurskie</th>\n",
       "      <td>2019.789474</td>\n",
       "      <td>12920.210526</td>\n",
       "      <td>999.000000</td>\n",
       "      <td>54496.315789</td>\n",
       "    </tr>\n",
       "    <tr>\n",
       "      <th>Mazowieckie</th>\n",
       "      <td>2018.210526</td>\n",
       "      <td>71615.084211</td>\n",
       "      <td>1098.689474</td>\n",
       "      <td>60056.205263</td>\n",
       "    </tr>\n",
       "    <tr>\n",
       "      <th>Pomorskie</th>\n",
       "      <td>2018.940000</td>\n",
       "      <td>41933.160000</td>\n",
       "      <td>1032.400000</td>\n",
       "      <td>126464.960000</td>\n",
       "    </tr>\n",
       "  </tbody>\n",
       "</table>\n",
       "</div>"
      ],
      "text/plain": [
       "                                year  mileage  (km)  engine_capacity (cm3)  \\\n",
       "location                                                                     \n",
       "Holandia                 2020.000000    1680.000000             999.000000   \n",
       "Wielkopolskie            2018.242105   67165.989474            1084.652632   \n",
       "Świętokrzyskie           2018.750000   38854.583333            1034.500000   \n",
       "Moravian-SilesianRegion  2017.000000   67101.000000            1396.000000   \n",
       "Małopolskie              2018.654545   48219.200000            1048.054545   \n",
       "Zachodniopomorskie       2018.300000   50511.200000            1041.300000   \n",
       "Podlaskie                2018.727273   33776.727273            1055.454545   \n",
       "Śląskie                  2018.626984   45825.738095            1031.611111   \n",
       "Opolskie                 2018.521739   46716.173913            1008.260870   \n",
       "Dolnośląskie             2018.714286   48036.285714            1046.476190   \n",
       "Kujawsko-pomorskie       2018.785714   43345.964286            1029.214286   \n",
       "Podkarpackie             2018.960000   40348.920000             998.960000   \n",
       "Lubelskie                2018.863636   45636.863636            1036.181818   \n",
       "Łódzkie                  2019.126316   34648.094737            1014.189474   \n",
       "Lubuskie                 2019.416667   18393.000000            1034.250000   \n",
       "Warmińsko-mazurskie      2019.789474   12920.210526             999.000000   \n",
       "Mazowieckie              2018.210526   71615.084211            1098.689474   \n",
       "Pomorskie                2018.940000   41933.160000            1032.400000   \n",
       "\n",
       "                           price (PLN)  \n",
       "location                                \n",
       "Holandia                  11131.000000  \n",
       "Wielkopolskie             39849.515789  \n",
       "Świętokrzyskie            40420.083333  \n",
       "Moravian-SilesianRegion   41888.000000  \n",
       "Małopolskie               42132.672727  \n",
       "Zachodniopomorskie        42310.000000  \n",
       "Podlaskie                 43635.818182  \n",
       "Śląskie                   43820.801587  \n",
       "Opolskie                  46239.130435  \n",
       "Dolnośląskie              46732.154762  \n",
       "Kujawsko-pomorskie        47069.178571  \n",
       "Podkarpackie              47079.120000  \n",
       "Lubelskie                 48010.454545  \n",
       "Łódzkie                   48277.642105  \n",
       "Lubuskie                  51915.750000  \n",
       "Warmińsko-mazurskie       54496.315789  \n",
       "Mazowieckie               60056.205263  \n",
       "Pomorskie                126464.960000  "
      ]
     },
     "execution_count": 12,
     "metadata": {},
     "output_type": "execute_result"
    }
   ],
   "source": [
    "data_gr = data.groupby(['location']).mean()\n",
    "data_gr.sort_values(by=['price (PLN)','mileage  (km)'])\n",
    "# Holandia is not a Voivodeship of Poland\n",
    "# In the Wielkopolskie voivodship there is the lowest average price of a Skoda \n",
    "# but in average of mileage  is high\n",
    "# Świętokrzyskie should be good place for looking for a Skoda Fabia :) "
   ]
  },
  {
   "cell_type": "code",
   "execution_count": 13,
   "metadata": {},
   "outputs": [
    {
     "data": {
      "text/plain": [
       "999     682\n",
       "1422     85\n",
       "1000     47\n",
       "1197     22\n",
       "998      10\n",
       "1400      9\n",
       "1200      2\n",
       "1396      1\n",
       "1395      1\n",
       "Name: engine_capacity (cm3), dtype: int64"
      ]
     },
     "execution_count": 13,
     "metadata": {},
     "output_type": "execute_result"
    }
   ],
   "source": [
    "engines = data['engine_capacity (cm3)'].value_counts()\n",
    "engines"
   ]
  },
  {
   "cell_type": "code",
   "execution_count": 13,
   "metadata": {},
   "outputs": [
    {
     "data": {
      "text/plain": [
       "year                            2017\n",
       "mileage  (km)                 185456\n",
       "engine_capacity (cm3)           1422\n",
       "fuel type                     Diesel\n",
       "price (PLN)                    27900\n",
       "location                 Mazowieckie\n",
       "Name: 239, dtype: object"
      ]
     },
     "execution_count": 13,
     "metadata": {},
     "output_type": "execute_result"
    }
   ],
   "source": [
    "data.iloc[data['mileage  (km)'].idxmax(axis=0)]"
   ]
  },
  {
   "cell_type": "code",
   "execution_count": 14,
   "metadata": {},
   "outputs": [
    {
     "data": {
      "text/plain": [
       "year                            2019\n",
       "mileage  (km)                  86500\n",
       "engine_capacity (cm3)            999\n",
       "fuel type                Benzyna+LPG\n",
       "price (PLN)                  3973631\n",
       "location                   Pomorskie\n",
       "Name: 149, dtype: object"
      ]
     },
     "execution_count": 14,
     "metadata": {},
     "output_type": "execute_result"
    }
   ],
   "source": [
    "data.iloc[data['price (PLN)'].idxmax(axis=0)]"
   ]
  },
  {
   "cell_type": "code",
   "execution_count": 15,
   "metadata": {},
   "outputs": [
    {
     "data": {
      "text/plain": [
       "year                          2019\n",
       "mileage  (km)                41000\n",
       "engine_capacity (cm3)          999\n",
       "fuel type                  Benzyna\n",
       "price (PLN)                   8000\n",
       "location                 Pomorskie\n",
       "Name: 162, dtype: object"
      ]
     },
     "execution_count": 15,
     "metadata": {},
     "output_type": "execute_result"
    }
   ],
   "source": [
    "#car with minimal price is probably crashed\n",
    "data.iloc[data['price (PLN)'].idxmin(axis=0)]"
   ]
  },
  {
   "cell_type": "code",
   "execution_count": 16,
   "metadata": {},
   "outputs": [
    {
     "data": {
      "text/plain": [
       "<AxesSubplot:>"
      ]
     },
     "execution_count": 16,
     "metadata": {},
     "output_type": "execute_result"
    },
    {
     "data": {
      "image/png": "[encoded data removed]",
      "text/plain": [
       "<Figure size 432x288 with 2 Axes>"
      ]
     },
     "metadata": {
      "needs_background": "light"
     },
     "output_type": "display_data"
    }
   ],
   "source": [
    "sns.heatmap(data.corr(),annot=True,cmap='coolwarm')"
   ]
  },
  {
   "cell_type": "code",
   "execution_count": 24,
   "metadata": {},
   "outputs": [
    {
     "data": {
      "text/plain": [
       "array([[<AxesSubplot:title={'center':'year'}>,\n",
       "        <AxesSubplot:title={'center':'mileage  (km)'}>],\n",
       "       [<AxesSubplot:title={'center':'engine_capacity (cm3)'}>,\n",
       "        <AxesSubplot:title={'center':'price (PLN)'}>]], dtype=object)"
      ]
     },
     "execution_count": 24,
     "metadata": {},
     "output_type": "execute_result"
    },
    {
     "data": {
      "image/png": "[encoded data removed]",
      "text/plain": [
       "<Figure size 720x720 with 4 Axes>"
      ]
     },
     "metadata": {
      "needs_background": "light"
     },
     "output_type": "display_data"
    }
   ],
   "source": [
    "data.hist(figsize=(10,10))"
   ]
  },
  {
   "cell_type": "code",
   "execution_count": 22,
   "metadata": {},
   "outputs": [
    {
     "data": {
      "text/plain": [
       "array([[<AxesSubplot:xlabel='year', ylabel='year'>,\n",
       "        <AxesSubplot:xlabel='mileage  (km)', ylabel='year'>,\n",
       "        <AxesSubplot:xlabel='engine_capacity (cm3)', ylabel='year'>,\n",
       "        <AxesSubplot:xlabel='price (PLN)', ylabel='year'>],\n",
       "       [<AxesSubplot:xlabel='year', ylabel='mileage  (km)'>,\n",
       "        <AxesSubplot:xlabel='mileage  (km)', ylabel='mileage  (km)'>,\n",
       "        <AxesSubplot:xlabel='engine_capacity (cm3)', ylabel='mileage  (km)'>,\n",
       "        <AxesSubplot:xlabel='price (PLN)', ylabel='mileage  (km)'>],\n",
       "       [<AxesSubplot:xlabel='year', ylabel='engine_capacity (cm3)'>,\n",
       "        <AxesSubplot:xlabel='mileage  (km)', ylabel='engine_capacity (cm3)'>,\n",
       "        <AxesSubplot:xlabel='engine_capacity (cm3)', ylabel='engine_capacity (cm3)'>,\n",
       "        <AxesSubplot:xlabel='price (PLN)', ylabel='engine_capacity (cm3)'>],\n",
       "       [<AxesSubplot:xlabel='year', ylabel='price (PLN)'>,\n",
       "        <AxesSubplot:xlabel='mileage  (km)', ylabel='price (PLN)'>,\n",
       "        <AxesSubplot:xlabel='engine_capacity (cm3)', ylabel='price (PLN)'>,\n",
       "        <AxesSubplot:xlabel='price (PLN)', ylabel='price (PLN)'>]],\n",
       "      dtype=object)"
      ]
     },
     "execution_count": 22,
     "metadata": {},
     "output_type": "execute_result"
    },
    {
     "data": {
      "image/png": "[encoded data removed]",
      "text/plain": [
       "<Figure size 792x792 with 16 Axes>"
      ]
     },
     "metadata": {
      "needs_background": "light"
     },
     "output_type": "display_data"
    }
   ],
   "source": [
    "from pandas.plotting import scatter_matrix\n",
    "scatter_matrix(data, alpha=0.2, figsize=(11, 11), diagonal='kde')"
   ]
  },
  {
   "cell_type": "code",
   "execution_count": 23,
   "metadata": {},
   "outputs": [
    {
     "data": {
      "text/plain": [
       "<AxesSubplot:>"
      ]
     },
     "execution_count": 23,
     "metadata": {},
     "output_type": "execute_result"
    },
    {
     "data": {
      "image/png": "[encoded data removed]",
      "text/plain": [
       "<Figure size 432x288 with 1 Axes>"
      ]
     },
     "metadata": {
      "needs_background": "light"
     },
     "output_type": "display_data"
    }
   ],
   "source": [
    "data.boxplot(column='price (PLN)',)\n",
    "\n",
    "#probably need to filter out data"
   ]
  },
  {
   "cell_type": "code",
   "execution_count": 56,
   "metadata": {
    "collapsed": true
   },
   "outputs": [
    {
     "data": {
      "text/plain": [
       "[35900.0,\n",
       " 57900.0,\n",
       " 46000.0,\n",
       " 61350.0,\n",
       " 28000.0,\n",
       " 42075.0,\n",
       " 57350.0,\n",
       " 72990.0,\n",
       " 79990.0,\n",
       " 74590.0,\n",
       " 68890.0,\n",
       " 67990.0,\n",
       " 34999.0,\n",
       " 47368.0,\n",
       " 60200.0,\n",
       " 59850.0,\n",
       " 32000.0,\n",
       " 29900.0,\n",
       " 59900.0,\n",
       " 29500.0,\n",
       " 30000.0,\n",
       " 32900.0,\n",
       " 29000.0,\n",
       " 31500.0,\n",
       " 53997.0,\n",
       " 58300.0,\n",
       " 28002.0,\n",
       " 24002.0,\n",
       " 25999.0,\n",
       " 49500.0,\n",
       " 28900.0,\n",
       " 27900.0,\n",
       " 32999.0,\n",
       " 43900.0,\n",
       " 61700.0,\n",
       " 60500.0,\n",
       " 59200.0,\n",
       " 52800.0,\n",
       " 58000.0,\n",
       " 55800.0,\n",
       " 48900.0,\n",
       " 57750.0,\n",
       " 56000.0,\n",
       " 54850.0,\n",
       " 57400.0,\n",
       " 56800.0,\n",
       " 28700.0,\n",
       " 48999.0,\n",
       " 57700.0,\n",
       " 62750.0,\n",
       " 62400.0,\n",
       " 59150.0,\n",
       " 42900.0,\n",
       " 60850.0,\n",
       " 46900.0,\n",
       " 33900.0,\n",
       " 31900.0,\n",
       " 58500.0,\n",
       " 39999.0,\n",
       " 33002.0,\n",
       " 40900.0,\n",
       " 65700.0,\n",
       " 27700.0,\n",
       " 37900.0,\n",
       " 53900.0,\n",
       " 53490.0,\n",
       " 58750.0,\n",
       " 36500.0,\n",
       " 52400.0,\n",
       " 23499.0,\n",
       " 41986.0,\n",
       " 55900.0,\n",
       " 58850.0,\n",
       " 37999.0,\n",
       " 55300.0,\n",
       " 62850.0,\n",
       " 47850.0,\n",
       " 62700.0,\n",
       " 37500.0,\n",
       " 27000.0,\n",
       " 64900.0,\n",
       " 32850.0,\n",
       " 54900.0,\n",
       " 52700.0,\n",
       " 49250.0,\n",
       " 44990.0,\n",
       " 26800.0,\n",
       " 57500.0,\n",
       " 51500.0,\n",
       " 47900.0,\n",
       " 26999.0,\n",
       " 55500.0,\n",
       " 34900.0,\n",
       " 62900.0,\n",
       " 36900.0,\n",
       " 26900.0,\n",
       " 49900.0,\n",
       " 34075.0,\n",
       " 37075.0,\n",
       " 38000.0,\n",
       " 51900.0,\n",
       " 30002.0,\n",
       " 33000.0,\n",
       " 39500.0,\n",
       " 63900.0,\n",
       " 49999.0,\n",
       " 56500.0,\n",
       " 61900.0,\n",
       " 61500.0,\n",
       " 63800.0,\n",
       " 30799.0,\n",
       " 39900.0,\n",
       " 26399.0,\n",
       " 60900.0,\n",
       " 36777.0,\n",
       " 62990.0,\n",
       " 53000.0,\n",
       " 59990.0,\n",
       " 55690.0,\n",
       " 38400.0,\n",
       " 45900.0,\n",
       " 38597.0,\n",
       " 30900.0,\n",
       " 36600.0,\n",
       " 59400.0,\n",
       " 29700.0,\n",
       " 65300.0,\n",
       " 65000.0,\n",
       " 65250.0,\n",
       " 63700.0,\n",
       " 63350.0,\n",
       " 46200.0,\n",
       " 45300.0,\n",
       " 59500.0,\n",
       " 59250.0,\n",
       " 56400.0,\n",
       " 61200.0,\n",
       " 55200.0,\n",
       " 55150.0,\n",
       " 50650.0,\n",
       " 48150.0,\n",
       " 25900.0,\n",
       " 57990.0,\n",
       " 31000.0,\n",
       " 61990.0,\n",
       " 57490.0,\n",
       " 41900.0,\n",
       " 41500.0,\n",
       " 43000.0,\n",
       " 29002.0,\n",
       " 38500.0,\n",
       " 52950.0,\n",
       " 39800.0,\n",
       " 37986.0,\n",
       " 54500.0,\n",
       " 27468.0,\n",
       " 26500.0,\n",
       " 43500.0,\n",
       " 53500.0,\n",
       " 65780.0,\n",
       " 59300.0,\n",
       " 24900.0,\n",
       " 56300.0,\n",
       " 34000.0,\n",
       " 52900.0,\n",
       " 50900.0,\n",
       " 23550.0,\n",
       " 63850.0,\n",
       " 63050.0,\n",
       " 38899.0,\n",
       " 38600.0,\n",
       " 26799.0,\n",
       " 29600.0,\n",
       " 21900.0,\n",
       " 62500.0,\n",
       " 31600.0,\n",
       " 29850.0,\n",
       " 51650.0,\n",
       " 60300.0,\n",
       " 56990.0,\n",
       " 58150.0,\n",
       " 60700.0,\n",
       " 53650.0,\n",
       " 63100.0,\n",
       " 48000.0,\n",
       " 52200.0,\n",
       " 49986.0,\n",
       " 64750.0,\n",
       " 42999.0,\n",
       " 75000.0,\n",
       " 39000.0,\n",
       " 61000.0,\n",
       " 42501.0,\n",
       " 24800.0,\n",
       " 32500.0,\n",
       " 28905.0,\n",
       " 66400.0,\n",
       " 63400.0,\n",
       " 49300.0,\n",
       " 35000.0,\n",
       " 54950.0,\n",
       " 38900.0,\n",
       " 30800.0,\n",
       " 66300.0,\n",
       " 57000.0,\n",
       " 29400.0,\n",
       " 47300.0,\n",
       " 71950.0,\n",
       " 22000.0,\n",
       " 44800.0,\n",
       " 52350.0,\n",
       " 29799.0,\n",
       " 33500.0,\n",
       " 47100.0,\n",
       " 58760.0,\n",
       " 68000.0,\n",
       " 39250.0,\n",
       " 27500.0,\n",
       " 44900.0,\n",
       " 28800.0,\n",
       " 34500.0,\n",
       " 47490.0,\n",
       " 21279.0,\n",
       " 30700.0,\n",
       " 44600.0,\n",
       " 60600.0,\n",
       " 66700.0,\n",
       " 67500.0,\n",
       " 65230.0,\n",
       " 62580.0,\n",
       " 45000.0,\n",
       " 50600.0,\n",
       " 62260.0,\n",
       " 65500.0,\n",
       " 63500.0,\n",
       " 42800.0,\n",
       " 54690.0,\n",
       " 66200.0,\n",
       " 58490.0,\n",
       " 55990.0,\n",
       " 54590.0,\n",
       " 44777.0,\n",
       " 62050.0,\n",
       " 32002.0,\n",
       " 23199.0,\n",
       " 51300.0,\n",
       " 52500.0,\n",
       " 58999.0,\n",
       " 27800.0,\n",
       " 68700.0,\n",
       " 55000.0,\n",
       " 58200.0,\n",
       " 47000.0,\n",
       " 64499.0,\n",
       " 61599.0,\n",
       " 63499.0,\n",
       " 64999.0,\n",
       " 61499.0,\n",
       " 39002.0,\n",
       " 36002.0,\n",
       " 36285.0,\n",
       " 62999.0,\n",
       " 56999.0,\n",
       " 60999.0,\n",
       " 61699.0,\n",
       " 35700.0,\n",
       " 58499.0,\n",
       " 51105.0,\n",
       " 54225.0,\n",
       " 53591.0,\n",
       " 52421.0,\n",
       " 47355.0,\n",
       " 43296.0,\n",
       " 33800.0,\n",
       " 30100.0,\n",
       " 37400.0,\n",
       " 66500.0,\n",
       " 37300.0,\n",
       " 62000.0,\n",
       " 70050.0,\n",
       " 34800.0,\n",
       " 22500.0,\n",
       " 60800.0,\n",
       " 47800.0,\n",
       " 54800.0,\n",
       " 60350.0,\n",
       " 52650.0,\n",
       " 55700.0,\n",
       " 33333.0,\n",
       " 41888.0,\n",
       " 57800.0,\n",
       " 58990.0,\n",
       " 21300.0,\n",
       " 41800.0,\n",
       " 53199.0,\n",
       " 58100.0,\n",
       " 32799.0,\n",
       " 26887.0,\n",
       " 43788.0,\n",
       " 26400.0,\n",
       " 28600.0,\n",
       " 32800.0,\n",
       " 58600.0,\n",
       " 63760.0,\n",
       " 45100.0,\n",
       " 23400.0,\n",
       " 27300.0,\n",
       " 30600.0,\n",
       " 40400.0,\n",
       " 35500.0,\n",
       " 67100.0,\n",
       " 23000.0,\n",
       " 64990.0,\n",
       " 42500.0,\n",
       " 57850.0,\n",
       " 74000.0,\n",
       " 60000.0,\n",
       " 64450.0,\n",
       " 53990.0,\n",
       " 58900.0,\n",
       " 28782.0,\n",
       " 59700.0,\n",
       " 62800.0,\n",
       " 65150.0,\n",
       " 66750.0,\n",
       " 66100.0,\n",
       " 22900.0,\n",
       " 64550.0,\n",
       " 54200.0,\n",
       " 32600.0,\n",
       " 62650.0,\n",
       " 26000.0,\n",
       " 46666.0,\n",
       " 45986.0,\n",
       " 49800.0,\n",
       " 61800.0,\n",
       " 57950.0,\n",
       " 21000.0,\n",
       " 57299.0,\n",
       " 32400.0,\n",
       " 38120.0,\n",
       " 45990.0,\n",
       " 40500.0,\n",
       " 38806.0,\n",
       " 26076.0,\n",
       " 38999.0,\n",
       " 52000.0,\n",
       " 54735.0,\n",
       " 29999.0,\n",
       " 33990.0,\n",
       " 28500.0,\n",
       " 69400.0,\n",
       " 25707.0,\n",
       " 23900.0,\n",
       " 23247.0,\n",
       " 24500.0,\n",
       " 49599.0,\n",
       " 33995.0,\n",
       " 45999.0,\n",
       " 37000.0,\n",
       " 69300.0,\n",
       " 55650.0,\n",
       " 25325.0,\n",
       " 56650.0,\n",
       " 26499.0,\n",
       " 52100.0,\n",
       " 38800.0,\n",
       " 55490.0]"
      ]
     },
     "execution_count": 56,
     "metadata": {},
     "output_type": "execute_result"
    }
   ],
   "source": [
    "pln = data['price (PLN)']\n",
    "pln_filtered = pln.where((pln > 20000) & (pln < 100000))\n",
    "l2p = pln_filtered.dropna().unique().tolist()\n",
    "l2p"
   ]
  },
  {
   "cell_type": "code",
   "execution_count": 76,
   "metadata": {},
   "outputs": [
    {
     "data": {
      "text/plain": [
       "Text(0.5, 1.0, 'Histogram')"
      ]
     },
     "execution_count": 76,
     "metadata": {},
     "output_type": "execute_result"
    },
    {
     "data": {
      "image/png": "[encoded data removed]",
      "text/plain": [
       "<Figure size 1440x1080 with 1 Axes>"
      ]
     },
     "metadata": {
      "needs_background": "light"
     },
     "output_type": "display_data"
    }
   ],
   "source": [
    "\n",
    "plt.figure(figsize=(20,15))\n",
    "plt.hist(l2p, density=True, bins=82, label=\"Data\")\n",
    "mn, mx = plt.xlim()\n",
    "plt.xlim(mn, mx)\n",
    "pln_filtered.plot.kde()\n",
    "plt.legend(loc=\"upper left\")\n",
    "plt.ylabel('Probability')\n",
    "plt.xlabel('Data')\n",
    "plt.title(\"Histogram\")"
   ]
  },
  {
   "cell_type": "code",
   "execution_count": 57,
   "metadata": {},
   "outputs": [
    {
     "data": {
      "text/plain": [
       "<AxesSubplot:ylabel='Density'>"
      ]
     },
     "execution_count": 57,
     "metadata": {},
     "output_type": "execute_result"
    },
    {
     "data": {
      "image/png": "[encoded data removed]",
      "text/plain": [
       "<Figure size 432x288 with 1 Axes>"
      ]
     },
     "metadata": {
      "needs_background": "light"
     },
     "output_type": "display_data"
    }
   ],
   "source": [
    "pln_filtered.plot.kde()"
   ]
  },
  {
   "cell_type": "code",
   "execution_count": 69,
   "metadata": {},
   "outputs": [
    {
     "data": {
      "text/plain": [
       "<AxesSubplot:>"
      ]
     },
     "execution_count": 69,
     "metadata": {},
     "output_type": "execute_result"
    },
    {
     "data": {
      "image/png": "[encoded data removed]",
      "text/plain": [
       "<Figure size 432x288 with 1 Axes>"
      ]
     },
     "metadata": {
      "needs_background": "light"
     },
     "output_type": "display_data"
    }
   ],
   "source": [
    "pln_filtered.plot.box()"
   ]
  },
  {
   "cell_type": "code",
   "execution_count": null,
   "metadata": {},
   "outputs": [],
   "source": []
  }
 ],
 "metadata": {
  "kernelspec": {
   "display_name": "Python 3",
   "language": "python",
   "name": "python3"
  },
  "language_info": {
   "codemirror_mode": {
    "name": "ipython",
    "version": 3
   },
   "file_extension": ".py",
   "mimetype": "text/x-python",
   "name": "python",
   "nbconvert_exporter": "python",
   "pygments_lexer": "ipython3",
   "version": "3.8.5"
  }
 },
 "nbformat": 4,
 "nbformat_minor": 4
}
